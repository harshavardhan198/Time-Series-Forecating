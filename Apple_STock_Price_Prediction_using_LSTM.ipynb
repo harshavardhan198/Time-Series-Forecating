{
  "nbformat": 4,
  "nbformat_minor": 0,
  "metadata": {
    "colab": {
      "name": "Apple STock Price Prediction using LSTM.ipynb",
      "provenance": []
    },
    "kernelspec": {
      "name": "python3",
      "display_name": "Python 3"
    },
    "language_info": {
      "name": "python"
    }
  },
  "cells": [
    {
      "cell_type": "markdown",
      "source": [
        "## Import the necessary libraries"
      ],
      "metadata": {
        "id": "kz8gEwJWg6Ot"
      }
    },
    {
      "cell_type": "code",
      "execution_count": null,
      "metadata": {
        "id": "oNO_rLV1MB9e"
      },
      "outputs": [],
      "source": [
        "import numpy as np\n",
        "import pandas as pd\n",
        "\n",
        "import os\n",
        "import matplotlib.pyplot as plt\n",
        "import pandas_datareader as web\n",
        "import datetime as dt\n",
        "\n",
        "from sklearn.preprocessing import MinMaxScaler\n",
        "from tensorflow.keras.models import Sequential\n",
        "from tensorflow.keras.layers import Dense, Dropout, LSTM\n",
        "from tensorflow.keras.callbacks import ModelCheckpoint, EarlyStopping"
      ]
    },
    {
      "cell_type": "markdown",
      "source": [
        "## Read the data "
      ],
      "metadata": {
        "id": "K1D2NaDehBUO"
      }
    },
    {
      "cell_type": "code",
      "source": [
        "dateparse = lambda dates: pd.datetime.strptime(dates, '%Y-%m-%d')\n",
        "stock_data = pd.read_csv('/content/AAPL.csv', index_col='Date', parse_dates=['Date'], date_parser=dateparse).fillna(0)"
      ],
      "metadata": {
        "colab": {
          "base_uri": "https://localhost:8080/"
        },
        "id": "r4nOqhnefDBI",
        "outputId": "22888890-3843-4504-ebbb-01ecac794114"
      },
      "execution_count": null,
      "outputs": [
        {
          "output_type": "stream",
          "name": "stderr",
          "text": [
            "/usr/local/lib/python3.7/dist-packages/ipykernel_launcher.py:1: FutureWarning: The pandas.datetime class is deprecated and will be removed from pandas in a future version. Import from datetime module instead.\n",
            "  \"\"\"Entry point for launching an IPython kernel.\n"
          ]
        }
      ]
    },
    {
      "cell_type": "code",
      "source": [
        "stock_data"
      ],
      "metadata": {
        "colab": {
          "base_uri": "https://localhost:8080/",
          "height": 455
        },
        "id": "xVb0OsBKlZ_A",
        "outputId": "1167eb54-4a4f-446f-dc6b-6e6813e0b0b1"
      },
      "execution_count": null,
      "outputs": [
        {
          "output_type": "execute_result",
          "data": {
            "text/plain": [
              "                  Open        High         Low       Close   Adj Close  \\\n",
              "Date                                                                     \n",
              "2010-01-04    7.622500    7.660714    7.585000    7.643214    6.535086   \n",
              "2010-01-05    7.664286    7.699643    7.616071    7.656429    6.546385   \n",
              "2010-01-06    7.656429    7.686786    7.526786    7.534643    6.442255   \n",
              "2010-01-07    7.562500    7.571429    7.466071    7.520714    6.430345   \n",
              "2010-01-08    7.510714    7.571429    7.466429    7.570714    6.473097   \n",
              "...                ...         ...         ...         ...         ...   \n",
              "2022-05-20  139.089996  140.699997  132.610001  137.589996  137.589996   \n",
              "2022-05-23  137.789993  143.259995  137.649994  143.110001  143.110001   \n",
              "2022-05-24  140.809998  141.970001  137.330002  140.360001  140.360001   \n",
              "2022-05-25  138.429993  141.789993  138.339996  140.520004  140.520004   \n",
              "2022-05-26  137.389999  144.339996  137.139999  143.779999  143.779999   \n",
              "\n",
              "               Volume  \n",
              "Date                   \n",
              "2010-01-04  493729600  \n",
              "2010-01-05  601904800  \n",
              "2010-01-06  552160000  \n",
              "2010-01-07  477131200  \n",
              "2010-01-08  447610800  \n",
              "...               ...  \n",
              "2022-05-20  137194600  \n",
              "2022-05-23  117726300  \n",
              "2022-05-24  104132700  \n",
              "2022-05-25   92482700  \n",
              "2022-05-26   90501100  \n",
              "\n",
              "[3122 rows x 6 columns]"
            ],
            "text/html": [
              "\n",
              "  <div id=\"df-6821e21c-c960-4517-950a-e817b3f336cd\">\n",
              "    <div class=\"colab-df-container\">\n",
              "      <div>\n",
              "<style scoped>\n",
              "    .dataframe tbody tr th:only-of-type {\n",
              "        vertical-align: middle;\n",
              "    }\n",
              "\n",
              "    .dataframe tbody tr th {\n",
              "        vertical-align: top;\n",
              "    }\n",
              "\n",
              "    .dataframe thead th {\n",
              "        text-align: right;\n",
              "    }\n",
              "</style>\n",
              "<table border=\"1\" class=\"dataframe\">\n",
              "  <thead>\n",
              "    <tr style=\"text-align: right;\">\n",
              "      <th></th>\n",
              "      <th>Open</th>\n",
              "      <th>High</th>\n",
              "      <th>Low</th>\n",
              "      <th>Close</th>\n",
              "      <th>Adj Close</th>\n",
              "      <th>Volume</th>\n",
              "    </tr>\n",
              "    <tr>\n",
              "      <th>Date</th>\n",
              "      <th></th>\n",
              "      <th></th>\n",
              "      <th></th>\n",
              "      <th></th>\n",
              "      <th></th>\n",
              "      <th></th>\n",
              "    </tr>\n",
              "  </thead>\n",
              "  <tbody>\n",
              "    <tr>\n",
              "      <th>2010-01-04</th>\n",
              "      <td>7.622500</td>\n",
              "      <td>7.660714</td>\n",
              "      <td>7.585000</td>\n",
              "      <td>7.643214</td>\n",
              "      <td>6.535086</td>\n",
              "      <td>493729600</td>\n",
              "    </tr>\n",
              "    <tr>\n",
              "      <th>2010-01-05</th>\n",
              "      <td>7.664286</td>\n",
              "      <td>7.699643</td>\n",
              "      <td>7.616071</td>\n",
              "      <td>7.656429</td>\n",
              "      <td>6.546385</td>\n",
              "      <td>601904800</td>\n",
              "    </tr>\n",
              "    <tr>\n",
              "      <th>2010-01-06</th>\n",
              "      <td>7.656429</td>\n",
              "      <td>7.686786</td>\n",
              "      <td>7.526786</td>\n",
              "      <td>7.534643</td>\n",
              "      <td>6.442255</td>\n",
              "      <td>552160000</td>\n",
              "    </tr>\n",
              "    <tr>\n",
              "      <th>2010-01-07</th>\n",
              "      <td>7.562500</td>\n",
              "      <td>7.571429</td>\n",
              "      <td>7.466071</td>\n",
              "      <td>7.520714</td>\n",
              "      <td>6.430345</td>\n",
              "      <td>477131200</td>\n",
              "    </tr>\n",
              "    <tr>\n",
              "      <th>2010-01-08</th>\n",
              "      <td>7.510714</td>\n",
              "      <td>7.571429</td>\n",
              "      <td>7.466429</td>\n",
              "      <td>7.570714</td>\n",
              "      <td>6.473097</td>\n",
              "      <td>447610800</td>\n",
              "    </tr>\n",
              "    <tr>\n",
              "      <th>...</th>\n",
              "      <td>...</td>\n",
              "      <td>...</td>\n",
              "      <td>...</td>\n",
              "      <td>...</td>\n",
              "      <td>...</td>\n",
              "      <td>...</td>\n",
              "    </tr>\n",
              "    <tr>\n",
              "      <th>2022-05-20</th>\n",
              "      <td>139.089996</td>\n",
              "      <td>140.699997</td>\n",
              "      <td>132.610001</td>\n",
              "      <td>137.589996</td>\n",
              "      <td>137.589996</td>\n",
              "      <td>137194600</td>\n",
              "    </tr>\n",
              "    <tr>\n",
              "      <th>2022-05-23</th>\n",
              "      <td>137.789993</td>\n",
              "      <td>143.259995</td>\n",
              "      <td>137.649994</td>\n",
              "      <td>143.110001</td>\n",
              "      <td>143.110001</td>\n",
              "      <td>117726300</td>\n",
              "    </tr>\n",
              "    <tr>\n",
              "      <th>2022-05-24</th>\n",
              "      <td>140.809998</td>\n",
              "      <td>141.970001</td>\n",
              "      <td>137.330002</td>\n",
              "      <td>140.360001</td>\n",
              "      <td>140.360001</td>\n",
              "      <td>104132700</td>\n",
              "    </tr>\n",
              "    <tr>\n",
              "      <th>2022-05-25</th>\n",
              "      <td>138.429993</td>\n",
              "      <td>141.789993</td>\n",
              "      <td>138.339996</td>\n",
              "      <td>140.520004</td>\n",
              "      <td>140.520004</td>\n",
              "      <td>92482700</td>\n",
              "    </tr>\n",
              "    <tr>\n",
              "      <th>2022-05-26</th>\n",
              "      <td>137.389999</td>\n",
              "      <td>144.339996</td>\n",
              "      <td>137.139999</td>\n",
              "      <td>143.779999</td>\n",
              "      <td>143.779999</td>\n",
              "      <td>90501100</td>\n",
              "    </tr>\n",
              "  </tbody>\n",
              "</table>\n",
              "<p>3122 rows × 6 columns</p>\n",
              "</div>\n",
              "      <button class=\"colab-df-convert\" onclick=\"convertToInteractive('df-6821e21c-c960-4517-950a-e817b3f336cd')\"\n",
              "              title=\"Convert this dataframe to an interactive table.\"\n",
              "              style=\"display:none;\">\n",
              "        \n",
              "  <svg xmlns=\"http://www.w3.org/2000/svg\" height=\"24px\"viewBox=\"0 0 24 24\"\n",
              "       width=\"24px\">\n",
              "    <path d=\"M0 0h24v24H0V0z\" fill=\"none\"/>\n",
              "    <path d=\"M18.56 5.44l.94 2.06.94-2.06 2.06-.94-2.06-.94-.94-2.06-.94 2.06-2.06.94zm-11 1L8.5 8.5l.94-2.06 2.06-.94-2.06-.94L8.5 2.5l-.94 2.06-2.06.94zm10 10l.94 2.06.94-2.06 2.06-.94-2.06-.94-.94-2.06-.94 2.06-2.06.94z\"/><path d=\"M17.41 7.96l-1.37-1.37c-.4-.4-.92-.59-1.43-.59-.52 0-1.04.2-1.43.59L10.3 9.45l-7.72 7.72c-.78.78-.78 2.05 0 2.83L4 21.41c.39.39.9.59 1.41.59.51 0 1.02-.2 1.41-.59l7.78-7.78 2.81-2.81c.8-.78.8-2.07 0-2.86zM5.41 20L4 18.59l7.72-7.72 1.47 1.35L5.41 20z\"/>\n",
              "  </svg>\n",
              "      </button>\n",
              "      \n",
              "  <style>\n",
              "    .colab-df-container {\n",
              "      display:flex;\n",
              "      flex-wrap:wrap;\n",
              "      gap: 12px;\n",
              "    }\n",
              "\n",
              "    .colab-df-convert {\n",
              "      background-color: #E8F0FE;\n",
              "      border: none;\n",
              "      border-radius: 50%;\n",
              "      cursor: pointer;\n",
              "      display: none;\n",
              "      fill: #1967D2;\n",
              "      height: 32px;\n",
              "      padding: 0 0 0 0;\n",
              "      width: 32px;\n",
              "    }\n",
              "\n",
              "    .colab-df-convert:hover {\n",
              "      background-color: #E2EBFA;\n",
              "      box-shadow: 0px 1px 2px rgba(60, 64, 67, 0.3), 0px 1px 3px 1px rgba(60, 64, 67, 0.15);\n",
              "      fill: #174EA6;\n",
              "    }\n",
              "\n",
              "    [theme=dark] .colab-df-convert {\n",
              "      background-color: #3B4455;\n",
              "      fill: #D2E3FC;\n",
              "    }\n",
              "\n",
              "    [theme=dark] .colab-df-convert:hover {\n",
              "      background-color: #434B5C;\n",
              "      box-shadow: 0px 1px 3px 1px rgba(0, 0, 0, 0.15);\n",
              "      filter: drop-shadow(0px 1px 2px rgba(0, 0, 0, 0.3));\n",
              "      fill: #FFFFFF;\n",
              "    }\n",
              "  </style>\n",
              "\n",
              "      <script>\n",
              "        const buttonEl =\n",
              "          document.querySelector('#df-6821e21c-c960-4517-950a-e817b3f336cd button.colab-df-convert');\n",
              "        buttonEl.style.display =\n",
              "          google.colab.kernel.accessAllowed ? 'block' : 'none';\n",
              "\n",
              "        async function convertToInteractive(key) {\n",
              "          const element = document.querySelector('#df-6821e21c-c960-4517-950a-e817b3f336cd');\n",
              "          const dataTable =\n",
              "            await google.colab.kernel.invokeFunction('convertToInteractive',\n",
              "                                                     [key], {});\n",
              "          if (!dataTable) return;\n",
              "\n",
              "          const docLinkHtml = 'Like what you see? Visit the ' +\n",
              "            '<a target=\"_blank\" href=https://colab.research.google.com/notebooks/data_table.ipynb>data table notebook</a>'\n",
              "            + ' to learn more about interactive tables.';\n",
              "          element.innerHTML = '';\n",
              "          dataTable['output_type'] = 'display_data';\n",
              "          await google.colab.output.renderOutput(dataTable, element);\n",
              "          const docLink = document.createElement('div');\n",
              "          docLink.innerHTML = docLinkHtml;\n",
              "          element.appendChild(docLink);\n",
              "        }\n",
              "      </script>\n",
              "    </div>\n",
              "  </div>\n",
              "  "
            ]
          },
          "metadata": {},
          "execution_count": 16
        }
      ]
    },
    {
      "cell_type": "markdown",
      "source": [
        "## Preprocess the data"
      ],
      "metadata": {
        "id": "QM-yoLpphV5G"
      }
    },
    {
      "cell_type": "code",
      "source": [
        "scaler = MinMaxScaler(feature_range=(0,1))\n",
        "scaled_data = scaler.fit_transform(stock_data['Close'].values.reshape(-1,1))"
      ],
      "metadata": {
        "id": "tLsoSnx6fSdW"
      },
      "execution_count": null,
      "outputs": []
    },
    {
      "cell_type": "code",
      "source": [
        "scaled_data"
      ],
      "metadata": {
        "id": "w54ifWrnleSb",
        "outputId": "ca6159e6-dedf-4d46-8828-622c3d6c70d0",
        "colab": {
          "base_uri": "https://localhost:8080/"
        }
      },
      "execution_count": null,
      "outputs": [
        {
          "output_type": "execute_result",
          "data": {
            "text/plain": [
              "array([[0.00447776],\n",
              "       [0.00455321],\n",
              "       [0.00385789],\n",
              "       ...,\n",
              "       [0.76220531],\n",
              "       [0.76311882],\n",
              "       [0.7817313 ]])"
            ]
          },
          "metadata": {},
          "execution_count": 17
        }
      ]
    },
    {
      "cell_type": "code",
      "source": [
        "prediction_days = 60\n",
        "\n",
        "x_train = []\n",
        "y_train = []\n",
        "\n",
        "for x in range(prediction_days, len(scaled_data)):\n",
        "    x_train.append(scaled_data[x - prediction_days:x, 0])\n",
        "    y_train.append(scaled_data[x, 0])\n",
        "    \n",
        "x_train, y_train = np.array(x_train), np.array(y_train)\n",
        "x_train = np.reshape(x_train, (x_train.shape[0], x_train.shape[1], 1))"
      ],
      "metadata": {
        "id": "7TuLR_PAfem8"
      },
      "execution_count": null,
      "outputs": []
    },
    {
      "cell_type": "markdown",
      "source": [
        "## Build the LSTM model"
      ],
      "metadata": {
        "id": "49aUJG5HhcLl"
      }
    },
    {
      "cell_type": "code",
      "source": [
        "def LSTM_model():\n",
        "    \n",
        "    model = Sequential()\n",
        "    \n",
        "    model.add(LSTM(units = 50, return_sequences = True, input_shape = (x_train.shape[1],1)))\n",
        "    model.add(Dropout(0.2))\n",
        "\n",
        "    model.add(LSTM(units = 50, return_sequences = True))\n",
        "    model.add(Dropout(0.2))\n",
        "\n",
        "    model.add(LSTM(units = 50))\n",
        "    model.add(Dropout(0.2))\n",
        "    \n",
        "    model.add(Dense(units=1))\n",
        "    \n",
        "    return model"
      ],
      "metadata": {
        "id": "on00UXF9foZO"
      },
      "execution_count": null,
      "outputs": []
    },
    {
      "cell_type": "code",
      "source": [
        "model = LSTM_model()\n",
        "model.summary()\n",
        "model.compile(optimizer='adam', \n",
        "              loss='mean_squared_error')"
      ],
      "metadata": {
        "colab": {
          "base_uri": "https://localhost:8080/"
        },
        "id": "CueJdhOIfx6t",
        "outputId": "bf967ada-8769-4c5f-bf84-d939bea58ddd"
      },
      "execution_count": null,
      "outputs": [
        {
          "output_type": "stream",
          "name": "stdout",
          "text": [
            "Model: \"sequential\"\n",
            "_________________________________________________________________\n",
            " Layer (type)                Output Shape              Param #   \n",
            "=================================================================\n",
            " lstm (LSTM)                 (None, 60, 50)            10400     \n",
            "                                                                 \n",
            " dropout (Dropout)           (None, 60, 50)            0         \n",
            "                                                                 \n",
            " lstm_1 (LSTM)               (None, 60, 50)            20200     \n",
            "                                                                 \n",
            " dropout_1 (Dropout)         (None, 60, 50)            0         \n",
            "                                                                 \n",
            " lstm_2 (LSTM)               (None, 50)                20200     \n",
            "                                                                 \n",
            " dropout_2 (Dropout)         (None, 50)                0         \n",
            "                                                                 \n",
            " dense (Dense)               (None, 1)                 51        \n",
            "                                                                 \n",
            "=================================================================\n",
            "Total params: 50,851\n",
            "Trainable params: 50,851\n",
            "Non-trainable params: 0\n",
            "_________________________________________________________________\n"
          ]
        }
      ]
    },
    {
      "cell_type": "markdown",
      "source": [
        "## Save the model"
      ],
      "metadata": {
        "id": "FrAikyrFhfmW"
      }
    },
    {
      "cell_type": "code",
      "source": [
        "checkpointer = ModelCheckpoint(filepath = 'weights_best.hdf5', \n",
        "                               verbose = 2, \n",
        "                               save_best_only = True)\n",
        "\n",
        "model.fit(x_train, \n",
        "          y_train, \n",
        "          epochs=25, \n",
        "          batch_size = 32,\n",
        "          callbacks = [checkpointer])"
      ],
      "metadata": {
        "colab": {
          "base_uri": "https://localhost:8080/"
        },
        "id": "kKSixiF5f18-",
        "outputId": "42d80566-a8a4-49ef-e841-5c0b2527c00c"
      },
      "execution_count": null,
      "outputs": [
        {
          "output_type": "stream",
          "name": "stdout",
          "text": [
            "Epoch 1/25\n",
            "96/96 [==============================] - ETA: 0s - loss: 0.0058WARNING:tensorflow:Can save best model only with val_loss available, skipping.\n",
            "96/96 [==============================] - 17s 101ms/step - loss: 0.0058\n",
            "Epoch 2/25\n",
            "96/96 [==============================] - ETA: 0s - loss: 0.0016WARNING:tensorflow:Can save best model only with val_loss available, skipping.\n",
            "96/96 [==============================] - 10s 100ms/step - loss: 0.0016\n",
            "Epoch 3/25\n",
            "96/96 [==============================] - ETA: 0s - loss: 0.0018WARNING:tensorflow:Can save best model only with val_loss available, skipping.\n",
            "96/96 [==============================] - 10s 108ms/step - loss: 0.0018\n",
            "Epoch 4/25\n",
            "96/96 [==============================] - ETA: 0s - loss: 0.0017WARNING:tensorflow:Can save best model only with val_loss available, skipping.\n",
            "96/96 [==============================] - 12s 121ms/step - loss: 0.0017\n",
            "Epoch 5/25\n",
            "96/96 [==============================] - ETA: 0s - loss: 0.0013WARNING:tensorflow:Can save best model only with val_loss available, skipping.\n",
            "96/96 [==============================] - 10s 102ms/step - loss: 0.0013\n",
            "Epoch 6/25\n",
            "96/96 [==============================] - ETA: 0s - loss: 0.0011WARNING:tensorflow:Can save best model only with val_loss available, skipping.\n",
            "96/96 [==============================] - 13s 132ms/step - loss: 0.0011\n",
            "Epoch 7/25\n",
            "96/96 [==============================] - ETA: 0s - loss: 0.0013WARNING:tensorflow:Can save best model only with val_loss available, skipping.\n",
            "96/96 [==============================] - 12s 129ms/step - loss: 0.0013\n",
            "Epoch 8/25\n",
            "96/96 [==============================] - ETA: 0s - loss: 0.0011WARNING:tensorflow:Can save best model only with val_loss available, skipping.\n",
            "96/96 [==============================] - 17s 180ms/step - loss: 0.0011\n",
            "Epoch 9/25\n",
            "96/96 [==============================] - ETA: 0s - loss: 0.0011WARNING:tensorflow:Can save best model only with val_loss available, skipping.\n",
            "96/96 [==============================] - 18s 184ms/step - loss: 0.0011\n",
            "Epoch 10/25\n",
            "96/96 [==============================] - ETA: 0s - loss: 0.0011WARNING:tensorflow:Can save best model only with val_loss available, skipping.\n",
            "96/96 [==============================] - 17s 173ms/step - loss: 0.0011\n",
            "Epoch 11/25\n",
            "96/96 [==============================] - ETA: 0s - loss: 0.0012WARNING:tensorflow:Can save best model only with val_loss available, skipping.\n",
            "96/96 [==============================] - 14s 147ms/step - loss: 0.0012\n",
            "Epoch 12/25\n",
            "96/96 [==============================] - ETA: 0s - loss: 0.0010WARNING:tensorflow:Can save best model only with val_loss available, skipping.\n",
            "96/96 [==============================] - 10s 100ms/step - loss: 0.0010\n",
            "Epoch 13/25\n",
            "96/96 [==============================] - ETA: 0s - loss: 9.0567e-04WARNING:tensorflow:Can save best model only with val_loss available, skipping.\n",
            "96/96 [==============================] - 10s 99ms/step - loss: 9.0567e-04\n",
            "Epoch 14/25\n",
            "96/96 [==============================] - ETA: 0s - loss: 9.1864e-04WARNING:tensorflow:Can save best model only with val_loss available, skipping.\n",
            "96/96 [==============================] - 10s 101ms/step - loss: 9.1864e-04\n",
            "Epoch 15/25\n",
            "96/96 [==============================] - ETA: 0s - loss: 9.2347e-04WARNING:tensorflow:Can save best model only with val_loss available, skipping.\n",
            "96/96 [==============================] - 10s 103ms/step - loss: 9.2347e-04\n",
            "Epoch 16/25\n",
            "96/96 [==============================] - ETA: 0s - loss: 9.1403e-04WARNING:tensorflow:Can save best model only with val_loss available, skipping.\n",
            "96/96 [==============================] - 10s 103ms/step - loss: 9.1403e-04\n",
            "Epoch 17/25\n",
            "96/96 [==============================] - ETA: 0s - loss: 0.0010WARNING:tensorflow:Can save best model only with val_loss available, skipping.\n",
            "96/96 [==============================] - 13s 135ms/step - loss: 0.0010\n",
            "Epoch 18/25\n",
            "96/96 [==============================] - ETA: 0s - loss: 8.3231e-04WARNING:tensorflow:Can save best model only with val_loss available, skipping.\n",
            "96/96 [==============================] - 13s 134ms/step - loss: 8.3231e-04\n",
            "Epoch 19/25\n",
            "96/96 [==============================] - ETA: 0s - loss: 7.6333e-04WARNING:tensorflow:Can save best model only with val_loss available, skipping.\n",
            "96/96 [==============================] - 10s 102ms/step - loss: 7.6333e-04\n",
            "Epoch 20/25\n",
            "96/96 [==============================] - ETA: 0s - loss: 7.3454e-04WARNING:tensorflow:Can save best model only with val_loss available, skipping.\n",
            "96/96 [==============================] - 10s 101ms/step - loss: 7.3454e-04\n",
            "Epoch 21/25\n",
            "96/96 [==============================] - ETA: 0s - loss: 7.8229e-04WARNING:tensorflow:Can save best model only with val_loss available, skipping.\n",
            "96/96 [==============================] - 13s 133ms/step - loss: 7.8229e-04\n",
            "Epoch 22/25\n",
            "96/96 [==============================] - ETA: 0s - loss: 7.4760e-04WARNING:tensorflow:Can save best model only with val_loss available, skipping.\n",
            "96/96 [==============================] - 11s 113ms/step - loss: 7.4760e-04\n",
            "Epoch 23/25\n",
            "96/96 [==============================] - ETA: 0s - loss: 8.3046e-04WARNING:tensorflow:Can save best model only with val_loss available, skipping.\n",
            "96/96 [==============================] - 10s 101ms/step - loss: 8.3046e-04\n",
            "Epoch 24/25\n",
            "96/96 [==============================] - ETA: 0s - loss: 7.6393e-04WARNING:tensorflow:Can save best model only with val_loss available, skipping.\n",
            "96/96 [==============================] - 10s 99ms/step - loss: 7.6393e-04\n",
            "Epoch 25/25\n",
            "96/96 [==============================] - ETA: 0s - loss: 7.5427e-04WARNING:tensorflow:Can save best model only with val_loss available, skipping.\n",
            "96/96 [==============================] - 11s 113ms/step - loss: 7.5427e-04\n"
          ]
        },
        {
          "output_type": "execute_result",
          "data": {
            "text/plain": [
              "<keras.callbacks.History at 0x7f9d000c1610>"
            ]
          },
          "metadata": {},
          "execution_count": 10
        }
      ]
    },
    {
      "cell_type": "markdown",
      "source": [
        "## Predictions"
      ],
      "metadata": {
        "id": "Fu0A9YENhqvT"
      }
    },
    {
      "cell_type": "code",
      "source": [
        "test_data = stock_data[dt.datetime(2019,1,1):dt.datetime.now()]\n",
        "\n",
        "actual_prices = test_data['Close'].values\n",
        "\n",
        "total_dataset = pd.concat((stock_data['Close'], test_data['Close']), axis=0)\n",
        "\n",
        "model_inputs = total_dataset[len(total_dataset) - len(test_data) - prediction_days:].values\n",
        "model_inputs = model_inputs.reshape(-1,1)\n",
        "model_inputs = scaler.transform(model_inputs)"
      ],
      "metadata": {
        "id": "Cjqp5d2Af7Lp"
      },
      "execution_count": null,
      "outputs": []
    },
    {
      "cell_type": "code",
      "source": [
        "x_test = []\n",
        "for x in range(prediction_days, len(model_inputs)):\n",
        "    x_test.append(model_inputs[x-prediction_days:x, 0])\n",
        "\n",
        "x_test = np.array(x_test)\n",
        "x_test = np.reshape(x_test, (x_test.shape[0], x_test.shape[1] ,1))\n",
        "\n",
        "predicted_prices = model.predict(x_test)\n",
        "predicted_prices = scaler.inverse_transform(predicted_prices)"
      ],
      "metadata": {
        "id": "HoTP3sarhlLG"
      },
      "execution_count": null,
      "outputs": []
    },
    {
      "cell_type": "code",
      "source": [
        "plt.figure(figsize=(12,8))\n",
        "plt.plot(actual_prices, color='black', label= \"Apple price\")\n",
        "plt.plot(predicted_prices, color= 'green', label=\"Predicted Apple price\")\n",
        "plt.title(\"Apple stock price prediction\")\n",
        "plt.xlabel(\"time\")\n",
        "plt.ylabel(\"Apple stock price\")\n",
        "plt.legend()\n",
        "plt.show()"
      ],
      "metadata": {
        "colab": {
          "base_uri": "https://localhost:8080/",
          "height": 513
        },
        "id": "_TeevScEhu4q",
        "outputId": "9bd4ed8a-a195-488f-ec50-d1e0bbb0c05d"
      },
      "execution_count": null,
      "outputs": [
        {
          "output_type": "display_data",
          "data": {
            "text/plain": [
              "<Figure size 864x576 with 1 Axes>"
            ],
            "image/png": "[encoded data removed]"
          },
          "metadata": {
            "needs_background": "light"
          }
        }
      ]
    },
    {
      "cell_type": "code",
      "source": [
        ""
      ],
      "metadata": {
        "id": "G9wZdyzKiN7v"
      },
      "execution_count": null,
      "outputs": []
    }
  ]
}